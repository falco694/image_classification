{
 "cells": [
  {
   "cell_type": "code",
   "execution_count": 1,
   "metadata": {},
   "outputs": [
    {
     "name": "stderr",
     "output_type": "stream",
     "text": [
      "Using TensorFlow backend.\n"
     ]
    }
   ],
   "source": [
    "from keras.callbacks import ModelCheckpoint, EarlyStopping, TensorBoard\n",
    "from keras.applications.vgg16 import VGG16\n",
    "from keras.models import Sequential, Model\n",
    "from keras.layers import Dense, GlobalAveragePooling2D, Input\n",
    "from keras.optimizers import SGD, adadelta\n",
    "from keras.utils import np_utils, plot_model\n",
    "from keras.preprocessing.image import load_img, img_to_array, ImageDataGenerator\n",
    "import numpy as np\n",
    "import os\n",
    "import keras.backend.tensorflow_backend as KTF\n",
    "import tensorflow as tf"
   ]
  },
  {
   "cell_type": "code",
   "execution_count": 2,
   "metadata": {},
   "outputs": [],
   "source": [
    "# 各種データ\n",
    "x = []\n",
    "y = []\n",
    "dictlabel = {} # ラベル格納\n",
    "width = 128 # 立幅\n",
    "side = 128 # 横幅\n",
    "test_size = 0.3 # 訓練データの割合\n",
    "datadir = \"dataset/\" # データ格納先\n",
    "traindir = datadir + \"train/\" #訓練データ格納先\n",
    "testdir = datadir + \"test/\" #テストデータ格納先\n",
    "batch_size = 32 # 学習毎のデータ数\n",
    "epoch = 400 # 学習回数"
   ]
  },
  {
   "cell_type": "code",
   "execution_count": 3,
   "metadata": {},
   "outputs": [],
   "source": [
    "old_session = KTF.get_session()\n",
    "session = tf.Session('')\n",
    "KTF.set_session(session)\n",
    "KTF.set_learning_phase(1)"
   ]
  },
  {
   "cell_type": "code",
   "execution_count": 4,
   "metadata": {},
   "outputs": [],
   "source": [
    "# steps_per_epoch 算出するために、訓練テストディレクトリそれぞれのファイル数（画像データ数）を算出する\n",
    "traindatacount = 0\n",
    "testdatacount = 0\n",
    "labelcount = 0\n",
    "for labeldir in os.listdir(traindir):\n",
    "    labelcount = labelcount + 1\n",
    "    for f in os.listdir(traindir + labeldir):\n",
    "        traindatacount = traindatacount + 1\n",
    "for labeldir in os.listdir(testdir):\n",
    "    for f in os.listdir(testdir + labeldir):\n",
    "        testdatacount = testdatacount + 1"
   ]
  },
  {
   "cell_type": "code",
   "execution_count": 5,
   "metadata": {},
   "outputs": [],
   "source": [
    "# モデル構築\n",
    "# 転移学習\n",
    "input_tensor = Input(shape=(width, side, 3))\n",
    "base_model = VGG16(weights='imagenet', include_top=False,input_tensor=input_tensor)\n",
    "\n",
    "x = base_model.output\n",
    "x = GlobalAveragePooling2D()(x)\n",
    "x = Dense(1024, activation='relu')(x)\n",
    "predictions = Dense(labelcount, activation='softmax')(x)\n",
    "model = Model(inputs=base_model.input, outputs=predictions)\n",
    "for layer in base_model.layers[:15]:\n",
    "    layer.trainable = False"
   ]
  },
  {
   "cell_type": "code",
   "execution_count": 6,
   "metadata": {},
   "outputs": [],
   "source": [
    "# モデルコンパイル\n",
    "model.compile(loss=\"categorical_crossentropy\", optimizer='adadelta', metrics=[\"accuracy\"])"
   ]
  },
  {
   "cell_type": "code",
   "execution_count": 7,
   "metadata": {},
   "outputs": [
    {
     "name": "stdout",
     "output_type": "stream",
     "text": [
      "_________________________________________________________________\n",
      "Layer (type)                 Output Shape              Param #   \n",
      "=================================================================\n",
      "input_1 (InputLayer)         (None, 128, 128, 3)       0         \n",
      "_________________________________________________________________\n",
      "block1_conv1 (Conv2D)        (None, 128, 128, 64)      1792      \n",
      "_________________________________________________________________\n",
      "block1_conv2 (Conv2D)        (None, 128, 128, 64)      36928     \n",
      "_________________________________________________________________\n",
      "block1_pool (MaxPooling2D)   (None, 64, 64, 64)        0         \n",
      "_________________________________________________________________\n",
      "block2_conv1 (Conv2D)        (None, 64, 64, 128)       73856     \n",
      "_________________________________________________________________\n",
      "block2_conv2 (Conv2D)        (None, 64, 64, 128)       147584    \n",
      "_________________________________________________________________\n",
      "block2_pool (MaxPooling2D)   (None, 32, 32, 128)       0         \n",
      "_________________________________________________________________\n",
      "block3_conv1 (Conv2D)        (None, 32, 32, 256)       295168    \n",
      "_________________________________________________________________\n",
      "block3_conv2 (Conv2D)        (None, 32, 32, 256)       590080    \n",
      "_________________________________________________________________\n",
      "block3_conv3 (Conv2D)        (None, 32, 32, 256)       590080    \n",
      "_________________________________________________________________\n",
      "block3_pool (MaxPooling2D)   (None, 16, 16, 256)       0         \n",
      "_________________________________________________________________\n",
      "block4_conv1 (Conv2D)        (None, 16, 16, 512)       1180160   \n",
      "_________________________________________________________________\n",
      "block4_conv2 (Conv2D)        (None, 16, 16, 512)       2359808   \n",
      "_________________________________________________________________\n",
      "block4_conv3 (Conv2D)        (None, 16, 16, 512)       2359808   \n",
      "_________________________________________________________________\n",
      "block4_pool (MaxPooling2D)   (None, 8, 8, 512)         0         \n",
      "_________________________________________________________________\n",
      "block5_conv1 (Conv2D)        (None, 8, 8, 512)         2359808   \n",
      "_________________________________________________________________\n",
      "block5_conv2 (Conv2D)        (None, 8, 8, 512)         2359808   \n",
      "_________________________________________________________________\n",
      "block5_conv3 (Conv2D)        (None, 8, 8, 512)         2359808   \n",
      "_________________________________________________________________\n",
      "block5_pool (MaxPooling2D)   (None, 4, 4, 512)         0         \n",
      "_________________________________________________________________\n",
      "global_average_pooling2d_1 ( (None, 512)               0         \n",
      "_________________________________________________________________\n",
      "dense_1 (Dense)              (None, 1024)              525312    \n",
      "_________________________________________________________________\n",
      "dense_2 (Dense)              (None, 101)               103525    \n",
      "=================================================================\n",
      "Total params: 15,343,525\n",
      "Trainable params: 7,708,261\n",
      "Non-trainable params: 7,635,264\n",
      "_________________________________________________________________\n"
     ]
    }
   ],
   "source": [
    "# モデルを表示\n",
    "model.summary()"
   ]
  },
  {
   "cell_type": "code",
   "execution_count": 8,
   "metadata": {},
   "outputs": [],
   "source": [
    "# データ読み込み\n",
    "train_datagen = ImageDataGenerator(rescale=1./255)\n",
    "test_datagen = ImageDataGenerator(rescale=1./255)"
   ]
  },
  {
   "cell_type": "code",
   "execution_count": 9,
   "metadata": {},
   "outputs": [
    {
     "name": "stdout",
     "output_type": "stream",
     "text": [
      "Found 70473 images belonging to 101 classes.\n",
      "Found 30527 images belonging to 101 classes.\n"
     ]
    }
   ],
   "source": [
    "train_generator = train_datagen.flow_from_directory(\n",
    "        'dataset/train',\n",
    "        target_size=(width, side),\n",
    "        batch_size=batch_size,\n",
    "        class_mode='categorical')\n",
    "\n",
    "validation_generator = test_datagen.flow_from_directory(\n",
    "        'dataset/test',\n",
    "        target_size=(width, side),\n",
    "        batch_size=batch_size,\n",
    "        class_mode='categorical')"
   ]
  },
  {
   "cell_type": "code",
   "execution_count": 10,
   "metadata": {},
   "outputs": [],
   "source": [
    "# 1回あたりの画像数を計算する\n",
    "steps_per_epoch = traindatacount // batch_size\n",
    "validation_steps = testdatacount // batch_size"
   ]
  },
  {
   "cell_type": "code",
   "execution_count": 11,
   "metadata": {
    "scrolled": false
   },
   "outputs": [
    {
     "name": "stdout",
     "output_type": "stream",
     "text": [
      "2202\n",
      "953\n"
     ]
    }
   ],
   "source": [
    "print(steps_per_epoch)\n",
    "print(validation_steps)"
   ]
  },
  {
   "cell_type": "code",
   "execution_count": 12,
   "metadata": {},
   "outputs": [
    {
     "data": {
      "text/plain": [
       "11595"
      ]
     },
     "execution_count": 12,
     "metadata": {},
     "output_type": "execute_result"
    }
   ],
   "source": [
    "open(\"model_convertcolor\", \"w\").write(model.to_json())"
   ]
  },
  {
   "cell_type": "code",
   "execution_count": 304,
   "metadata": {},
   "outputs": [],
   "source": [
    "### add for TensorBoard\n",
    "log_filepath = \"./logs/\"\n",
    "# tb_cb = TensorBoard(log_dir=log_filepath, histogram_freq=1, write_graph=True, write_images=True)\n",
    "###\n",
    "check = ModelCheckpoint(\"model_convertcolor.hdf5\", save_best_only=\"true\")\n",
    "earlystop = EarlyStopping(monitor='val_loss', patience=10, verbose=0, mode='auto')\n",
    "callbacks = [check, earlystop]"
   ]
  },
  {
   "cell_type": "code",
   "execution_count": 305,
   "metadata": {},
   "outputs": [
    {
     "name": "stdout",
     "output_type": "stream",
     "text": [
      "Epoch 1/400\n",
      "2202/2202 [==============================] - 442s 201ms/step - loss: 3.2656 - acc: 0.2305 - val_loss: 2.6064 - val_acc: 0.3644\n",
      "Epoch 2/400\n",
      "2202/2202 [==============================] - 435s 197ms/step - loss: 2.2844 - acc: 0.4292 - val_loss: 2.2964 - val_acc: 0.4327\n",
      "Epoch 3/400\n",
      "2202/2202 [==============================] - 399s 181ms/step - loss: 1.8207 - acc: 0.5291 - val_loss: 2.2066 - val_acc: 0.4646\n",
      "Epoch 4/400\n",
      "2202/2202 [==============================] - 397s 180ms/step - loss: 1.4234 - acc: 0.6192 - val_loss: 2.1372 - val_acc: 0.4853\n",
      "Epoch 5/400\n",
      "2202/2202 [==============================] - 398s 181ms/step - loss: 1.0438 - acc: 0.7111 - val_loss: 2.2556 - val_acc: 0.4877\n",
      "Epoch 6/400\n",
      "2202/2202 [==============================] - 392s 178ms/step - loss: 0.6966 - acc: 0.8005 - val_loss: 2.4919 - val_acc: 0.4909\n",
      "Epoch 7/400\n",
      "2202/2202 [==============================] - 394s 179ms/step - loss: 0.4254 - acc: 0.8735 - val_loss: 2.9516 - val_acc: 0.4832\n",
      "Epoch 8/400\n",
      "2202/2202 [==============================] - 393s 179ms/step - loss: 0.2473 - acc: 0.9236 - val_loss: 3.3678 - val_acc: 0.4874\n",
      "Epoch 9/400\n",
      "2202/2202 [==============================] - 403s 183ms/step - loss: 0.1546 - acc: 0.9515 - val_loss: 3.6858 - val_acc: 0.4830\n",
      "Epoch 10/400\n",
      "2202/2202 [==============================] - 392s 178ms/step - loss: 0.1156 - acc: 0.9646 - val_loss: 4.0118 - val_acc: 0.4845\n",
      "Epoch 11/400\n",
      "2202/2202 [==============================] - 392s 178ms/step - loss: 0.0918 - acc: 0.9710 - val_loss: 4.3547 - val_acc: 0.4809\n",
      "Epoch 12/400\n",
      "2202/2202 [==============================] - 400s 182ms/step - loss: 0.0803 - acc: 0.9747 - val_loss: 4.6446 - val_acc: 0.4767\n",
      "Epoch 13/400\n",
      "2202/2202 [==============================] - 391s 178ms/step - loss: 0.0751 - acc: 0.9767 - val_loss: 4.5573 - val_acc: 0.4877\n",
      "Epoch 14/400\n",
      "2202/2202 [==============================] - 403s 183ms/step - loss: 0.0716 - acc: 0.9785 - val_loss: 4.7189 - val_acc: 0.4806\n"
     ]
    }
   ],
   "source": [
    "# 学習\n",
    "history = model.fit_generator(generator=train_generator,\n",
    "                                steps_per_epoch=steps_per_epoch,\n",
    "                                epochs=epoch,\n",
    "                                verbose=1,\n",
    "                                validation_data=validation_generator,\n",
    "                                validation_steps=validation_steps,\n",
    "                                callbacks = callbacks,\n",
    "                                shuffle=True)"
   ]
  },
  {
   "cell_type": "code",
   "execution_count": 306,
   "metadata": {},
   "outputs": [
    {
     "data": {
      "image/png": "[encoded data removed]",
      "text/plain": [
       "<matplotlib.figure.Figure at 0x22829b73358>"
      ]
     },
     "metadata": {},
     "output_type": "display_data"
    }
   ],
   "source": [
    "import matplotlib.pyplot as plt\n",
    "# 精度の履歴をプロット\n",
    "plt.plot(history.history['acc'],\"o-\", label=\"accuracy\")\n",
    "plt.plot(history.history['val_acc'],\"o-\", label=\"val_acc\")\n",
    "plt.title('model accuracy')\n",
    "plt.xlabel('epoch')\n",
    "plt.ylabel('accuracy')\n",
    "plt.legend(loc=\"lower right\")\n",
    "plt.show()"
   ]
  },
  {
   "cell_type": "code",
   "execution_count": 307,
   "metadata": {},
   "outputs": [
    {
     "data": {
      "image/png": "[encoded data removed]",
      "text/plain": [
       "<matplotlib.figure.Figure at 0x228263a3630>"
      ]
     },
     "metadata": {},
     "output_type": "display_data"
    }
   ],
   "source": [
    "# 損失の履歴をプロット\n",
    "plt.plot(history.history['loss'],\"o-\", label=\"loss\",)\n",
    "plt.plot(history.history['val_loss'],\"o-\", label=\"val_loss\")\n",
    "plt.title('model loss')\n",
    "plt.xlabel('epoch')\n",
    "plt.ylabel('loss')\n",
    "plt.legend(loc='lower right')\n",
    "plt.show()"
   ]
  },
  {
   "cell_type": "code",
   "execution_count": null,
   "metadata": {},
   "outputs": [],
   "source": []
  }
 ],
 "metadata": {
  "kernelspec": {
   "display_name": "testkeras",
   "language": "python",
   "name": "testkeras"
  },
  "language_info": {
   "codemirror_mode": {
    "name": "ipython",
    "version": 3
   },
   "file_extension": ".py",
   "mimetype": "text/x-python",
   "name": "python",
   "nbconvert_exporter": "python",
   "pygments_lexer": "ipython3",
   "version": "3.6.3"
  }
 },
 "nbformat": 4,
 "nbformat_minor": 2
}
