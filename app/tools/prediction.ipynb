{
 "cells": [
  {
   "cell_type": "code",
   "execution_count": null,
   "metadata": {},
   "outputs": [],
   "source": [
    "import os\n",
    "import numpy as np\n",
    "from PIL import Image\n",
    "from keras.models import model_from_json\n",
    "from keras.preprocessing.image import load_img, img_to_array\n",
    "from keras.backend import tensorflow_backend as backend"
   ]
  },
  {
   "cell_type": "code",
   "execution_count": null,
   "metadata": {},
   "outputs": [],
   "source": [
    "# filepath = \"dataset/cat/cat.0.jpg\"\n",
    "filepath = r\"E:\\ダウンロード\\food-101\\images\\carrot_cake\\20839.jpg\""
   ]
  },
  {
   "cell_type": "code",
   "execution_count": null,
   "metadata": {},
   "outputs": [],
   "source": [
    "# windowsパスの「\\」を「/」に置換する\n",
    "# filepath = filepath.replace(os.sep, '/')\n",
    "# print(filepath)"
   ]
  },
  {
   "cell_type": "code",
   "execution_count": null,
   "metadata": {},
   "outputs": [],
   "source": [
    "# 画像を読み込む\n",
    "x_test= []\n",
    "image = np.array(Image.open(filepath))\n",
    "image = load_img(filepath, target_size=(128, 128))\n",
    "image = img_to_array(image)\n",
    "x_test.append(image / 255.)\n",
    "x_test = np.array(x_test)"
   ]
  },
  {
   "cell_type": "code",
   "execution_count": null,
   "metadata": {},
   "outputs": [],
   "source": [
    "# モデルを読み込み\n",
    "model = model_from_json(open('model', 'r').read())\n",
    "model.load_weights('model.hdf5')"
   ]
  },
  {
   "cell_type": "code",
   "execution_count": null,
   "metadata": {},
   "outputs": [],
   "source": [
    "# 予測\n",
    "classes = model.predict(x_test, batch_size=1)"
   ]
  },
  {
   "cell_type": "code",
   "execution_count": null,
   "metadata": {},
   "outputs": [],
   "source": [
    "# ラベルを読み込み\n",
    "labels = []\n",
    "with open(\"label.txt\", \"r\") as f:\n",
    "    for label in f:\n",
    "        labels.append(label.rstrip(\"\\n\"))\n",
    "\n",
    "# 評価をラベルと紐づける\n",
    "result = []\n",
    "for i in range(0, len(labels)):\n",
    "    result.append([labels[i], classes[0][i]])\n",
    "result = sorted(result, key=lambda x: x[1], reverse=True)\n",
    "print(str(result[0:10]).replace('],', '],\\r\\n'))"
   ]
  },
  {
   "cell_type": "code",
   "execution_count": null,
   "metadata": {},
   "outputs": [],
   "source": []
  }
 ],
 "metadata": {
  "kernelspec": {
   "display_name": "testkeras",
   "language": "python",
   "name": "testkeras"
  },
  "language_info": {
   "codemirror_mode": {
    "name": "ipython",
    "version": 3
   },
   "file_extension": ".py",
   "mimetype": "text/x-python",
   "name": "python",
   "nbconvert_exporter": "python",
   "pygments_lexer": "ipython3",
   "version": "3.6.3"
  }
 },
 "nbformat": 4,
 "nbformat_minor": 2
}
